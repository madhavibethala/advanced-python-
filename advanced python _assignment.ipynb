{
 "cells": [
  {
   "cell_type": "code",
   "execution_count": 1,
   "metadata": {},
   "outputs": [
    {
     "name": "stdout",
     "output_type": "stream",
     "text": [
      "Margherita Pizza\n",
      "Tandoori Paneer Pizza\n",
      "Veggie Supreme Pizza\n",
      "Chicken Supreme Pizza\n"
     ]
    }
   ],
   "source": [
    "#1 assignment\n",
    "pizzas=['Margherita pizza','Tandoori Paneer pizza','Veggie Supreme pizza','Chicken Supreme pizza']\n",
    "for p in pizzas:\n",
    "    print(p.title())\n"
   ]
  },
  {
   "cell_type": "code",
   "execution_count": 28,
   "metadata": {},
   "outputs": [
    {
     "name": "stdout",
     "output_type": "stream",
     "text": [
      "Margherita Pizza\n",
      "Tandoori Paneer Pizza\n",
      "Veggie Supreme Pizza\n",
      "Chicken Supreme Pizza\n",
      " I am crazy about  veg pizzas especially,  Veggie Supreme Pizza\n",
      " I like veggie toppings with paneer .  i love PIZZA\n"
     ]
    }
   ],
   "source": [
    "for p in pizzas:\n",
    "       print(p.title())\n",
    "print(f\" I am crazy about  veg pizzas especially, \",pizzas[2].title())\n",
    "print(\" I like veggie toppings with paneer .  i love PIZZA\")"
   ]
  },
  {
   "cell_type": "code",
   "execution_count": 30,
   "metadata": {},
   "outputs": [
    {
     "name": "stdout",
     "output_type": "stream",
     "text": [
      "Dog\n",
      "Cat\n",
      "Rabbit\n"
     ]
    }
   ],
   "source": [
    "#2 assignment\n",
    "animals=['dog','cat','rabbit']\n",
    "for pet in animals:\n",
    "    print(pet.title())"
   ]
  },
  {
   "cell_type": "code",
   "execution_count": 35,
   "metadata": {},
   "outputs": [
    {
     "name": "stdout",
     "output_type": "stream",
     "text": [
      "Dog is the best pet animal\n",
      "Cat is the best pet animal\n",
      "Rabbit is the best pet animal\n",
      "all these are mammals, you can choose any one of these according to your choice\n"
     ]
    }
   ],
   "source": [
    "nimals=['dog','cat','rabbit']\n",
    "for pet in animals:\n",
    "    print(pet.title() ,\"is the best pet animal\")\n",
    "print(\"all these are mammals, you can choose any one of these according to your choice\")"
   ]
  },
  {
   "cell_type": "code",
   "execution_count": 4,
   "metadata": {},
   "outputs": [
    {
     "name": "stdout",
     "output_type": "stream",
     "text": [
      "please enter alien color like red ,yellow,green\tred\n"
     ]
    }
   ],
   "source": [
    "#3  assignment\n",
    "alien_color=input(\"please enter alien color like red ,yellow,green ?\\t\")\n",
    "print(\"you entered \",{alien_color} )\n",
    "if alien_color=='green':\n",
    "    print(\"you won 5 points\")\n",
    "      \n",
    "   \n",
    "\n",
    "   "
   ]
  },
  {
   "cell_type": "code",
   "execution_count": 14,
   "metadata": {},
   "outputs": [
    {
     "name": "stdout",
     "output_type": "stream",
     "text": [
      "please enter alien color like red ,yellow,green ?\tred\n",
      "you entered  {'red'}\n",
      "\t\n"
     ]
    }
   ],
   "source": [
    "alien_color=input(\"please enter alien color like red ,yellow,green ?\\t\")\n",
    "print(\"you entered \",{alien_color} )\n",
    "if alien_color!='green':\n",
    "    print(\"\\t\")\n",
    "   "
   ]
  },
  {
   "cell_type": "code",
   "execution_count": 15,
   "metadata": {},
   "outputs": [
    {
     "name": "stdout",
     "output_type": "stream",
     "text": [
      "green\n",
      "you got 5 points\n",
      "red\n",
      "you got 10 points\n",
      "yellow\n",
      "you got 10 points\n"
     ]
    }
   ],
   "source": [
    "# 4  assignment\n",
    "alien_color=['green','red','yellow']\n",
    "for x in alien_color:\n",
    "    print(x)\n",
    "    if x=='green':\n",
    "        print(\"you got 5 points\")\n",
    "    else:\n",
    "        print(\"you got 10 points\")"
   ]
  },
  {
   "cell_type": "code",
   "execution_count": null,
   "metadata": {},
   "outputs": [],
   "source": []
  }
 ],
 "metadata": {
  "kernelspec": {
   "display_name": "Python 3",
   "language": "python",
   "name": "python3"
  },
  "language_info": {
   "codemirror_mode": {
    "name": "ipython",
    "version": 3
   },
   "file_extension": ".py",
   "mimetype": "text/x-python",
   "name": "python",
   "nbconvert_exporter": "python",
   "pygments_lexer": "ipython3",
   "version": "3.8.5"
  }
 },
 "nbformat": 4,
 "nbformat_minor": 4
}

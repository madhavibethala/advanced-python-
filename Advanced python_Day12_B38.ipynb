{
 "cells": [
  {
   "cell_type": "code",
   "execution_count": 1,
   "id": "71c7aecd",
   "metadata": {},
   "outputs": [],
   "source": [
    "#oops concept\n",
    "class Parent:\n",
    "    \"\"\" creating simple class\"\"\"\n",
    "    var1='i am  parent class'\n",
    "    var2='i am head of family'"
   ]
  },
  {
   "cell_type": "code",
   "execution_count": 3,
   "id": "31813b31",
   "metadata": {},
   "outputs": [],
   "source": [
    "class Child(Parent):\n",
    "    pass"
   ]
  },
  {
   "cell_type": "code",
   "execution_count": 4,
   "id": "7745b5fb",
   "metadata": {},
   "outputs": [
    {
     "data": {
      "text/plain": [
       "'i am  parent class'"
      ]
     },
     "execution_count": 4,
     "metadata": {},
     "output_type": "execute_result"
    }
   ],
   "source": [
    "test=Child()\n",
    "test.var1"
   ]
  },
  {
   "cell_type": "code",
   "execution_count": 5,
   "id": "3416de35",
   "metadata": {},
   "outputs": [],
   "source": [
    "class Child1(Parent):\n",
    "    var3=' i am child class var'\n"
   ]
  },
  {
   "cell_type": "code",
   "execution_count": 14,
   "id": "fe73ff16",
   "metadata": {},
   "outputs": [
    {
     "name": "stdout",
     "output_type": "stream",
     "text": [
      "i am  parent class\n",
      " i am child class var\n"
     ]
    }
   ],
   "source": [
    "test=Child1()\n",
    "print(test.var1)\n",
    "print(test.var3)"
   ]
  },
  {
   "cell_type": "code",
   "execution_count": null,
   "id": "6d7441e8",
   "metadata": {},
   "outputs": [],
   "source": [
    "test.var3"
   ]
  }
 ],
 "metadata": {
  "kernelspec": {
   "display_name": "Python 3",
   "language": "python",
   "name": "python3"
  },
  "language_info": {
   "codemirror_mode": {
    "name": "ipython",
    "version": 3
   },
   "file_extension": ".py",
   "mimetype": "text/x-python",
   "name": "python",
   "nbconvert_exporter": "python",
   "pygments_lexer": "ipython3",
   "version": "3.8.8"
  }
 },
 "nbformat": 4,
 "nbformat_minor": 5
}
